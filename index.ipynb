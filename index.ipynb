{
 "cells": [
  {
   "cell_type": "markdown",
   "metadata": {},
   "source": [
    "# Notebook showing some examples of HydraPython packages"
   ]
  },
  {
   "cell_type": "markdown",
   "metadata": {},
   "source": [
    "For the sake of demostration, the notebook is on python3 but same code can be run of python 2.7.x\n",
    "\n",
    "The package name is HydraPython and I'm importing it as hypy"
   ]
  },
  {
   "cell_type": "code",
   "execution_count": 1,
   "metadata": {
    "collapsed": true
   },
   "outputs": [],
   "source": [
    "import HydraPython as hypy"
   ]
  },
  {
   "cell_type": "markdown",
   "metadata": {},
   "source": [
    "The First class I'm showing is the Random class."
   ]
  },
  {
   "cell_type": "code",
   "execution_count": 2,
   "metadata": {},
   "outputs": [
    {
     "name": "stdout",
     "output_type": "stream",
     "text": [
      "7895123\n",
      "8385977\n",
      "988763\n"
     ]
    }
   ],
   "source": [
    "RNGen = hypy.Random()          # default seed\n",
    "RNGen2 = hypy.Random(8385977)  # Seed value\n",
    "# This will construct the 2 Random class's object one with default seed and\n",
    "# one with the seed value 8385977\n",
    "\n",
    "print (RNGen.GetSeed())         # Give the seed value of object r. 7895123\n",
    "print (RNGen2.GetSeed())\n",
    "\n",
    "RNGen.SetSeed(988763)           # New seed is 988763\n",
    "print (RNGen.GetSeed())         # 988763"
   ]
  },
  {
   "cell_type": "markdown",
   "metadata": {},
   "source": [
    "Below example shows the usage of Uniform distribution but there are some other distributions also available in HydraPython package to work on with."
   ]
  },
  {
   "cell_type": "code",
   "execution_count": 3,
   "metadata": {},
   "outputs": [
    {
     "name": "stdout",
     "output_type": "stream",
     "text": [
      "device_vector_float[1.28644, 1.392, 1.25468, 1.33692, 1.21742, 1.20804, 1.49552, 1.33111, 1.41064, 1.10015]\n"
     ]
    }
   ],
   "source": [
    "container = hypy.device_vector_float(1000000)      # Continer to hold 1000000 objects\n",
    "RNGen = hypy.Random()                              # Random number generator object\n",
    "RNGen.Uniform(1.1, 1.5, container)                 # Minimum number 1.1, maximum 1.5 and container\n",
    "# Above will generate 1000000 numbers between (1.1, 1.5)\n",
    "\n",
    "print (container[:10])"
   ]
  },
  {
   "cell_type": "markdown",
   "metadata": {},
   "source": [
    "The below is an example of Sample method with generates the sampling for the user defined function."
   ]
  },
  {
   "cell_type": "code",
   "execution_count": 4,
   "metadata": {
    "collapsed": true
   },
   "outputs": [],
   "source": [
    "import math\n",
    "\n",
    "def Gauss3D(*args):\n",
    "    g = 1.0\n",
    "    mean = 0\n",
    "    sigma = 1.0\n",
    "    for i in range(3):\n",
    "        m2 =(args[i] - mean) * (args[i] - mean)\n",
    "        s2 = sigma * sigma\n",
    "        g *= math.e ** ((-m2/(2.0 * s2 ))/( math.sqrt(2.0*s2*math.pi)))\n",
    "    return g \n",
    "\n"
   ]
  },
  {
   "cell_type": "markdown",
   "metadata": {},
   "source": [
    "The container object will be filled by the numbers according to the distribution defined by the user."
   ]
  },
  {
   "cell_type": "code",
   "execution_count": 5,
   "metadata": {
    "collapsed": true
   },
   "outputs": [],
   "source": [
    "container = hypy.host_vector_float3(200)\n",
    "RNGen = hypy.Random()\n",
    "sample = RNGen.Sample(container, [-5, -5, -5], [5, 5, 5], Gauss3D)"
   ]
  },
  {
   "cell_type": "code",
   "execution_count": 6,
   "metadata": {},
   "outputs": [
    {
     "name": "stdout",
     "output_type": "stream",
     "text": [
      "(0.4219701517577934, -1.0787015977117247, -0.004686508332087391)\n",
      "(1.104623969741747, 1.3037309621495485, 2.3973570041333856)\n",
      "(-1.9187522418040337, -0.08930860561254306, -1.0155871287133422)\n",
      "(-1.5125352763687587, -1.5901792110783786, 0.4594501671003648)\n",
      "(-1.5901792110783786, 0.4594501671003648, -1.8808818393208848)\n",
      "(0.4594501671003648, -1.8808818393208848, -2.047111193693347)\n",
      "(0.593116419010904, 0.3227611308198064, 0.0026509352053061264)\n",
      "(0.3227611308198064, 0.0026509352053061264, -2.0365943778647058)\n",
      "(0.0026509352053061264, -2.0365943778647058, 1.5529442593017073)\n",
      "(0.8387782432500068, -1.3353265461840913, 2.4524315516021398)\n",
      "(0.9237460195308045, 0.14420039499569715, 0.6973759836492832)\n",
      "(1.4777260334023512, 1.3134375366507445, 0.9434145325267818)\n",
      "(1.3134375366507445, 0.9434145325267818, -0.4370092185558838)\n",
      "(0.22710920332661755, 2.788461062860174, 1.8040150327645377)\n",
      "(0.3127681327171328, -2.369360255421475, -1.3887238049774653)\n"
     ]
    }
   ],
   "source": [
    "for s in sample:\n",
    "    print(s)"
   ]
  },
  {
   "cell_type": "markdown",
   "metadata": {},
   "source": [
    "## PhaseSpace class"
   ]
  },
  {
   "cell_type": "code",
   "execution_count": 7,
   "metadata": {
    "collapsed": true
   },
   "outputs": [],
   "source": [
    "vec4 = hypy.Vector4R(5.2795, 0.0, 0.0, 0.0)\n",
    "p = hypy.PhaseSpace4([3.096916, 0.493677, 0.13957018, 0.0195018])\n",
    "# This will construct the PhaseSpace object with exactly 4 daughter masses in the list."
   ]
  },
  {
   "cell_type": "code",
   "execution_count": 8,
   "metadata": {},
   "outputs": [
    {
     "name": "stdout",
     "output_type": "stream",
     "text": [
      "[5.2795,0,0,0]\n"
     ]
    }
   ],
   "source": [
    "print (vec4)"
   ]
  },
  {
   "cell_type": "code",
   "execution_count": 9,
   "metadata": {},
   "outputs": [
    {
     "name": "stdout",
     "output_type": "stream",
     "text": [
      "2.86 s ± 276 ms per loop (mean ± std. dev. of 7 runs, 1 loop each)\n"
     ]
    }
   ],
   "source": [
    "events_device = hypy.device_events_4(10000000)\n",
    "phsp = hypy.PhaseSpace4([3.096916, 0.493677, 0.13957018, 0.0195018])\n",
    "\n",
    "%timeit phsp.GenerateOndevice(vec4, events_device)\n",
    "\n",
    "e_host = hypy.host_events_4(3)\n",
    "phsp.GenerateOnhost(vec4, e_host)  # Generate particle on host\n"
   ]
  },
  {
   "cell_type": "code",
   "execution_count": 10,
   "metadata": {},
   "outputs": [
    {
     "name": "stdout",
     "output_type": "stream",
     "text": [
      "(0.0005088938029113608, (3.3132858802680483, 0.9817474906791471, 0.005536704420369651, -0.6504735373379763), (0.5282720749856796, 0.1548944580532786, 0.006307332616931181, -0.10640643448737479), (0.20941853033806007, -0.15242520203160884, 0.02494763024928916, 0.022813575657677953), (1.2285235144082114, -0.984216746700817, -0.036791667286590016, 0.7340663961676733))\n",
      "(0.05861767078785821, (3.181438349277635, -0.03434575000216974, 0.6924554981496236, 0.2235777532258999), (0.5954612442938403, -0.018288616145264284, -0.05383670420157988, -0.3280613493344976), (0.9107110775437897, 0.09954561322034503, -0.7592887348141828, -0.4727431857664381), (0.5918893288847361, -0.046911247072911, 0.12066994086613904, 0.5772267818750357))\n",
      "(0.03707844874162835, (3.4365180491355014, -0.5431575077619978, 1.2016283729299575, 0.6927025090971979), (1.1090010467339144, 0.23884482485918415, -0.9089525597618452, -0.320818850861811), (0.5518787080901042, 0.31080862812530524, -0.3785298310452285, -0.21261099922089294), (0.18210219604047903, -0.00649594522249164, 0.08585401787711622, -0.1592726590144939))\n",
      "(0.006837605920834427, (3.401594313554199, -1.293134024464029, 0.5072872124706028, -0.22454229397940279), (1.5573070210448763, 1.394874326759712, -0.48335010569812425, 0.04675965499145247), (0.2524830566191652, -0.14995440875740967, 0.007848184467822863, 0.14737686395529973), (0.06811560878175928, 0.04821410646172698, -0.03178529124030143, 0.030405775032650538))\n",
      "(0.01414198452921386, (3.2850305319120494, 0.16248225109989128, -0.1412121945419148, -1.0743349192540173), (0.757128651241072, -0.018298282514137718, 0.572422018816949, 0.03905149717598972), (1.1692252080651182, -0.10956478945170697, -0.4847854982050094, 1.049088332635632), (0.06811560878175928, -0.03461917913404654, 0.05357567392997516, -0.013804910557604485))\n",
      "(0.0766452094340963, (3.2341728832987404, 0.30809120175735577, 0.12456175809387136, 0.8709475918958388), (0.7810516082202105, 0.37904112976836724, -0.4398036417519262, -0.17095383300774622), (0.5576502772492979, -0.07747173678858996, 0.40055546819766735, -0.35362047942235075), (0.706625231231751, -0.6096605947371332, -0.08531358453961256, -0.3463732794657419))\n",
      "(0.05733048660952192, (3.259452650064563, -0.9123910454605942, 0.3074035238533951, 0.32586580158516343), (0.9647783872922374, 0.8210465136601273, -0.0924293433740751, 0.06648153989791408), (0.34864373141144883, -0.16337710803406938, -0.09880729359844702, 0.25615943396533414), (0.706625231231751, 0.2547216398345365, -0.11616688688087301, -0.6485067754484117))\n",
      "(0.05933024100377342, (3.1800240281720242, 0.24891252418448606, 0.431180214276422, -0.5232497365656961), (0.9088632845156223, 0.24101949263450123, 0.287569189009404, 0.6644765272861081), (0.33388926371789646, 0.07357554561076514, -0.18846083935531222, 0.22598972631165326), (0.8567234235944576, -0.5635075624297523, -0.5302885639305136, -0.3672165170320651))\n",
      "(0.07075876028295472, (3.160027272414595, 0.5817436941977074, 0.23689312676040636, -0.01842748227246546), (0.9332804194449984, -0.02558392967355671, -0.43086801077535447, -0.6640734754704328), (0.7903376810609046, -0.1685762219485808, 0.26665947197687545, 0.7110756628925311), (0.39585462707950275, -0.3875835425755699, -0.07268458796192735, -0.02857470514963283))\n",
      "(0.048667956135267615, (3.313811602228616, -0.6558268240389927, 0.5391278420788139, 0.8183464857719843), (0.6082144751048743, 0.2995801373018386, 0.139712472485874, 0.13015388493699734), (0.9616192955870071, 0.07389725058574463, -0.6695786380968521, -0.6718894836654696), (0.39585462707950275, 0.2823494361514094, -0.009261676467835855, -0.276610887043512))\n"
     ]
    }
   ],
   "source": [
    "for i in range(10): \n",
    "    print(events_device[i])"
   ]
  },
  {
   "cell_type": "code",
   "execution_count": 11,
   "metadata": {
    "collapsed": true
   },
   "outputs": [],
   "source": [
    "def foo(*data):\n",
    "    p1, p2, p3 = data[0], data[1], data[2]\n",
    "    p = p1 + p2 + p3\n",
    "    q = p2 + p3\n",
    "    pd = p * p2\n",
    "    pq = p * q\n",
    "    qd = q * p2\n",
    "    mp2 = p.mass2()\n",
    "    mq2 = q.mass2()\n",
    "    md2 = p2.mass2()\n",
    "    return (pd * mq2 - pq * qd) / math.sqrt((pq * pq - mq2 * mp2) * (qd * qd - mq2 * md2))\n"
   ]
  },
  {
   "cell_type": "code",
   "execution_count": 12,
   "metadata": {},
   "outputs": [
    {
     "name": "stdout",
     "output_type": "stream",
     "text": [
      "-0.983049786694536\n",
      "0.010451881904521796\n"
     ]
    }
   ],
   "source": [
    "vec4 = hypy.Vector4R(5.2795, 0.0, 0.0, 0.0)\n",
    "p = hypy.PhaseSpace4([3.096916, 0.493677, 0.13957018, 0.0195018])\n",
    "tup = p.AverageOnhost(vec4, foo, 10)  # Average of host, currently passing functor to device will fail\n",
    "print (tup[0])  # Mean\n",
    "print (tup[1])  # sqrt of variance"
   ]
  },
  {
   "cell_type": "code",
   "execution_count": null,
   "metadata": {
    "collapsed": true
   },
   "outputs": [],
   "source": []
  }
 ],
 "metadata": {
  "kernelspec": {
   "display_name": "Python 3",
   "language": "python",
   "name": "python3"
  },
  "language_info": {
   "codemirror_mode": {
    "name": "ipython",
    "version": 3
   },
   "file_extension": ".py",
   "mimetype": "text/x-python",
   "name": "python",
   "nbconvert_exporter": "python",
   "pygments_lexer": "ipython3",
   "version": "3.5.2"
  }
 },
 "nbformat": 4,
 "nbformat_minor": 2
}
